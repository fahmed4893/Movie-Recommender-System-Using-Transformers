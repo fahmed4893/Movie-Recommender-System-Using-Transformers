{
 "cells": [
  {
   "cell_type": "code",
   "execution_count": 2,
   "id": "7cdde90d-6e9f-4618-aaa5-814b7ea39636",
   "metadata": {},
   "outputs": [
    {
     "name": "stderr",
     "output_type": "stream",
     "text": [
      "C:\\Users\\Premier UK\\AppData\\Local\\Programs\\Python\\Python312\\Lib\\site-packages\\tqdm\\auto.py:21: TqdmWarning: IProgress not found. Please update jupyter and ipywidgets. See https://ipywidgets.readthedocs.io/en/stable/user_install.html\n",
      "  from .autonotebook import tqdm as notebook_tqdm\n"
     ]
    },
    {
     "name": "stdout",
     "output_type": "stream",
     "text": [
      "WARNING:tensorflow:From C:\\Users\\Premier UK\\AppData\\Local\\Programs\\Python\\Python312\\Lib\\site-packages\\tf_keras\\src\\losses.py:2976: The name tf.losses.sparse_softmax_cross_entropy is deprecated. Please use tf.compat.v1.losses.sparse_softmax_cross_entropy instead.\n",
      "\n"
     ]
    }
   ],
   "source": [
    "import pandas as pd\n",
    "import numpy as np\n",
    "from sentence_transformers import SentenceTransformer\n",
    "from sklearn.metrics.pairwise import cosine_similarity\n",
    "import spacy"
   ]
  },
  {
   "cell_type": "code",
   "execution_count": 3,
   "id": "d03717f5-413a-438e-ab37-615bb94c4949",
   "metadata": {},
   "outputs": [
    {
     "data": {
      "text/html": [
       "<div>\n",
       "<style scoped>\n",
       "    .dataframe tbody tr th:only-of-type {\n",
       "        vertical-align: middle;\n",
       "    }\n",
       "\n",
       "    .dataframe tbody tr th {\n",
       "        vertical-align: top;\n",
       "    }\n",
       "\n",
       "    .dataframe thead th {\n",
       "        text-align: right;\n",
       "    }\n",
       "</style>\n",
       "<table border=\"1\" class=\"dataframe\">\n",
       "  <thead>\n",
       "    <tr style=\"text-align: right;\">\n",
       "      <th></th>\n",
       "      <th>movieId</th>\n",
       "      <th>title</th>\n",
       "      <th>genres</th>\n",
       "    </tr>\n",
       "  </thead>\n",
       "  <tbody>\n",
       "    <tr>\n",
       "      <th>0</th>\n",
       "      <td>1</td>\n",
       "      <td>Toy Story (1995)</td>\n",
       "      <td>Adventure|Animation|Children|Comedy|Fantasy</td>\n",
       "    </tr>\n",
       "    <tr>\n",
       "      <th>1</th>\n",
       "      <td>2</td>\n",
       "      <td>Jumanji (1995)</td>\n",
       "      <td>Adventure|Children|Fantasy</td>\n",
       "    </tr>\n",
       "    <tr>\n",
       "      <th>2</th>\n",
       "      <td>3</td>\n",
       "      <td>Grumpier Old Men (1995)</td>\n",
       "      <td>Comedy|Romance</td>\n",
       "    </tr>\n",
       "    <tr>\n",
       "      <th>3</th>\n",
       "      <td>4</td>\n",
       "      <td>Waiting to Exhale (1995)</td>\n",
       "      <td>Comedy|Drama|Romance</td>\n",
       "    </tr>\n",
       "    <tr>\n",
       "      <th>4</th>\n",
       "      <td>5</td>\n",
       "      <td>Father of the Bride Part II (1995)</td>\n",
       "      <td>Comedy</td>\n",
       "    </tr>\n",
       "  </tbody>\n",
       "</table>\n",
       "</div>"
      ],
      "text/plain": [
       "   movieId                               title  \\\n",
       "0        1                    Toy Story (1995)   \n",
       "1        2                      Jumanji (1995)   \n",
       "2        3             Grumpier Old Men (1995)   \n",
       "3        4            Waiting to Exhale (1995)   \n",
       "4        5  Father of the Bride Part II (1995)   \n",
       "\n",
       "                                        genres  \n",
       "0  Adventure|Animation|Children|Comedy|Fantasy  \n",
       "1                   Adventure|Children|Fantasy  \n",
       "2                               Comedy|Romance  \n",
       "3                         Comedy|Drama|Romance  \n",
       "4                                       Comedy  "
      ]
     },
     "execution_count": 3,
     "metadata": {},
     "output_type": "execute_result"
    }
   ],
   "source": [
    "df= pd.read_csv('movies.csv')\n",
    "df.head(5)"
   ]
  },
  {
   "cell_type": "code",
   "execution_count": 4,
   "id": "18dc808e-a96a-4866-b82f-77810801829c",
   "metadata": {},
   "outputs": [],
   "source": [
    "df.drop('movieId',axis=1,inplace=True)"
   ]
  },
  {
   "cell_type": "code",
   "execution_count": 5,
   "id": "8bf559ba-360c-4709-9d91-8321f4b7edd7",
   "metadata": {},
   "outputs": [
    {
     "data": {
      "text/plain": [
       "title     0\n",
       "genres    0\n",
       "dtype: int64"
      ]
     },
     "execution_count": 5,
     "metadata": {},
     "output_type": "execute_result"
    }
   ],
   "source": [
    "df.isna().sum()"
   ]
  },
  {
   "cell_type": "code",
   "execution_count": 6,
   "id": "31f88f87-0ccd-4161-848f-0f231a0d3421",
   "metadata": {},
   "outputs": [],
   "source": [
    "df['clean_genres']=df['genres'].apply(lambda x: x.replace('|', ' '))"
   ]
  },
  {
   "cell_type": "code",
   "execution_count": 7,
   "id": "764fe25b-cfb4-46fc-8983-83f6439dd592",
   "metadata": {},
   "outputs": [],
   "source": [
    "df['combined']=df['title']+' '+df['clean_genres']"
   ]
  },
  {
   "cell_type": "code",
   "execution_count": 12,
   "id": "c155f8d0-8683-4493-a0e7-0369e2d9266b",
   "metadata": {},
   "outputs": [
    {
     "data": {
      "text/plain": [
       "(5000, 3)"
      ]
     },
     "execution_count": 12,
     "metadata": {},
     "output_type": "execute_result"
    }
   ],
   "source": [
    "df.shape"
   ]
  },
  {
   "cell_type": "code",
   "execution_count": 9,
   "id": "b2717f49-908b-4b5b-9a0d-e8647e5eea52",
   "metadata": {},
   "outputs": [],
   "source": [
    "df=df[:5000]"
   ]
  },
  {
   "cell_type": "code",
   "execution_count": 11,
   "id": "391bca0d-f29d-4f8d-ab31-fa8f442cb5fa",
   "metadata": {},
   "outputs": [],
   "source": [
    "df.drop('clean_genres',axis=1,inplace=True)"
   ]
  },
  {
   "cell_type": "code",
   "execution_count": 13,
   "id": "e3ec2f5a-a164-40a0-8856-a347446b4d23",
   "metadata": {},
   "outputs": [],
   "source": [
    "nlp=spacy.load('en_core_web_lg')"
   ]
  },
  {
   "cell_type": "code",
   "execution_count": 14,
   "id": "0cc7b3d7-4a77-443f-ab51-7033fccb7ecb",
   "metadata": {},
   "outputs": [],
   "source": [
    "def preprocessing(text):\n",
    "    text=text.lower()\n",
    "    doc=nlp(text)\n",
    "    clean_text=[]\n",
    "    for i in doc:\n",
    "        if i.is_punct or i.is_stop:\n",
    "            continue\n",
    "\n",
    "        clean_text.append(i.lemma_)\n",
    "\n",
    "    return clean_text"
   ]
  },
  {
   "cell_type": "code",
   "execution_count": 15,
   "id": "08603912-1222-43e7-98f0-e9e39f25fcd3",
   "metadata": {},
   "outputs": [],
   "source": [
    "df['clean_text']=df['combined'].apply(lambda x: preprocessing(x))"
   ]
  },
  {
   "cell_type": "code",
   "execution_count": 16,
   "id": "77b9d887-cfed-44ae-90f8-9068fdf705eb",
   "metadata": {},
   "outputs": [],
   "source": [
    "df['clean_text_string']=df['clean_text'].apply(lambda x: ' '.join(x))"
   ]
  },
  {
   "cell_type": "code",
   "execution_count": 18,
   "id": "32b3d34f-a34f-4fe7-b8e8-f628c816fc18",
   "metadata": {},
   "outputs": [],
   "source": [
    "df.drop('clean_text',axis=1,inplace=True)"
   ]
  },
  {
   "cell_type": "code",
   "execution_count": 19,
   "id": "8c117d0e-f86c-4359-bbd7-8302258e486f",
   "metadata": {},
   "outputs": [
    {
     "data": {
      "text/html": [
       "<div>\n",
       "<style scoped>\n",
       "    .dataframe tbody tr th:only-of-type {\n",
       "        vertical-align: middle;\n",
       "    }\n",
       "\n",
       "    .dataframe tbody tr th {\n",
       "        vertical-align: top;\n",
       "    }\n",
       "\n",
       "    .dataframe thead th {\n",
       "        text-align: right;\n",
       "    }\n",
       "</style>\n",
       "<table border=\"1\" class=\"dataframe\">\n",
       "  <thead>\n",
       "    <tr style=\"text-align: right;\">\n",
       "      <th></th>\n",
       "      <th>title</th>\n",
       "      <th>genres</th>\n",
       "      <th>combined</th>\n",
       "      <th>clean_text_string</th>\n",
       "    </tr>\n",
       "  </thead>\n",
       "  <tbody>\n",
       "    <tr>\n",
       "      <th>0</th>\n",
       "      <td>Toy Story (1995)</td>\n",
       "      <td>Adventure|Animation|Children|Comedy|Fantasy</td>\n",
       "      <td>Toy Story (1995) Adventure Animation Children ...</td>\n",
       "      <td>toy story 1995 adventure animation child comed...</td>\n",
       "    </tr>\n",
       "    <tr>\n",
       "      <th>1</th>\n",
       "      <td>Jumanji (1995)</td>\n",
       "      <td>Adventure|Children|Fantasy</td>\n",
       "      <td>Jumanji (1995) Adventure Children Fantasy</td>\n",
       "      <td>jumanji 1995 adventure child fantasy</td>\n",
       "    </tr>\n",
       "    <tr>\n",
       "      <th>2</th>\n",
       "      <td>Grumpier Old Men (1995)</td>\n",
       "      <td>Comedy|Romance</td>\n",
       "      <td>Grumpier Old Men (1995) Comedy Romance</td>\n",
       "      <td>grumpy old man 1995 comedy romance</td>\n",
       "    </tr>\n",
       "  </tbody>\n",
       "</table>\n",
       "</div>"
      ],
      "text/plain": [
       "                     title                                       genres  \\\n",
       "0         Toy Story (1995)  Adventure|Animation|Children|Comedy|Fantasy   \n",
       "1           Jumanji (1995)                   Adventure|Children|Fantasy   \n",
       "2  Grumpier Old Men (1995)                               Comedy|Romance   \n",
       "\n",
       "                                            combined  \\\n",
       "0  Toy Story (1995) Adventure Animation Children ...   \n",
       "1          Jumanji (1995) Adventure Children Fantasy   \n",
       "2             Grumpier Old Men (1995) Comedy Romance   \n",
       "\n",
       "                                   clean_text_string  \n",
       "0  toy story 1995 adventure animation child comed...  \n",
       "1               jumanji 1995 adventure child fantasy  \n",
       "2                 grumpy old man 1995 comedy romance  "
      ]
     },
     "execution_count": 19,
     "metadata": {},
     "output_type": "execute_result"
    }
   ],
   "source": [
    "df.head(3)"
   ]
  },
  {
   "cell_type": "code",
   "execution_count": 20,
   "id": "eb4e8dbf-282f-4e46-b0d0-25766a54c1b2",
   "metadata": {},
   "outputs": [],
   "source": [
    "lists=df['clean_text_string'].tolist()"
   ]
  },
  {
   "cell_type": "code",
   "execution_count": 21,
   "id": "c1782691-e352-4f8e-9481-2d438dace958",
   "metadata": {},
   "outputs": [
    {
     "data": {
      "text/plain": [
       "['toy story 1995 adventure animation child comedy fantasy',\n",
       " 'jumanji 1995 adventure child fantasy',\n",
       " 'grumpy old man 1995 comedy romance',\n",
       " 'wait exhale 1995 comedy drama romance',\n",
       " 'father bride ii 1995 comedy']"
      ]
     },
     "execution_count": 21,
     "metadata": {},
     "output_type": "execute_result"
    }
   ],
   "source": [
    "lists[:5]"
   ]
  },
  {
   "cell_type": "code",
   "execution_count": 22,
   "id": "f476f7cc-03b3-4d74-be36-9e4db2d29d1b",
   "metadata": {},
   "outputs": [],
   "source": [
    "model = SentenceTransformer(\"all-MiniLM-L6-v2\")"
   ]
  },
  {
   "cell_type": "code",
   "execution_count": 23,
   "id": "bd064fe1-4b38-40a9-a905-52e987d3fa26",
   "metadata": {},
   "outputs": [],
   "source": [
    "list_embedding=model.encode(lists)"
   ]
  },
  {
   "cell_type": "code",
   "execution_count": 24,
   "id": "3f37f60d-41de-4a79-92ba-6e8cf01b58e9",
   "metadata": {},
   "outputs": [
    {
     "data": {
      "text/plain": [
       "(5000, 384)"
      ]
     },
     "execution_count": 24,
     "metadata": {},
     "output_type": "execute_result"
    }
   ],
   "source": [
    "list_embedding.shape"
   ]
  },
  {
   "cell_type": "code",
   "execution_count": 28,
   "id": "1a74f45a-3b87-4fbb-9157-7572407a4388",
   "metadata": {},
   "outputs": [],
   "source": [
    "query='suggest any romantic movies'"
   ]
  },
  {
   "cell_type": "code",
   "execution_count": 29,
   "id": "0d3b4d65-65c1-42c7-b268-f1050f8b3564",
   "metadata": {},
   "outputs": [],
   "source": [
    "def recommendations(query, list_embedding, df, top=10):\n",
    "    query_embedding = model.encode([query])\n",
    "    similarity = cosine_similarity(query_embedding, list_embedding)\n",
    "    \n",
    "    top = similarity[0].argsort()[-top:][::-1]\n",
    "    return df.iloc[top]"
   ]
  },
  {
   "cell_type": "code",
   "execution_count": 30,
   "id": "f2abbd95-e223-40cd-8a0f-a44f72301329",
   "metadata": {},
   "outputs": [
    {
     "name": "stdout",
     "output_type": "stream",
     "text": [
      "                           title                genres\n",
      "2802              Romance (1999)         Drama|Romance\n",
      "3879  You Can Count on Me (2000)         Drama|Romance\n",
      "1543      She's So Lovely (1997)         Drama|Romance\n",
      "4711        Born Romantic (2000)  Comedy|Drama|Romance\n",
      "4766             Intimacy (2000)                 Drama\n",
      "3782           Love & Sex (2000)  Comedy|Drama|Romance\n",
      "1518                 Fall (1997)               Romance\n",
      "4267      Crazy/Beautiful (2001)         Drama|Romance\n",
      "2178    Indecent Proposal (1993)         Drama|Romance\n",
      "3358    Whatever It Takes (2000)        Comedy|Romance\n"
     ]
    }
   ],
   "source": [
    "suggestions = recommendations(query, list_embedding, df)\n",
    "print(suggestions[['title', 'genres']])"
   ]
  },
  {
   "cell_type": "code",
   "execution_count": null,
   "id": "46869298-43fe-4905-8054-0809662882e7",
   "metadata": {},
   "outputs": [],
   "source": []
  }
 ],
 "metadata": {
  "kernelspec": {
   "display_name": "Python 3 (ipykernel)",
   "language": "python",
   "name": "python3"
  },
  "language_info": {
   "codemirror_mode": {
    "name": "ipython",
    "version": 3
   },
   "file_extension": ".py",
   "mimetype": "text/x-python",
   "name": "python",
   "nbconvert_exporter": "python",
   "pygments_lexer": "ipython3",
   "version": "3.12.3"
  }
 },
 "nbformat": 4,
 "nbformat_minor": 5
}
